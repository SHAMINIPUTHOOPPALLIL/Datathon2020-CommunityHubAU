{
 "cells": [
  {
   "cell_type": "markdown",
   "metadata": {},
   "source": [
    "HUB location Cluster using Kmeans and DBSCAN "
   ]
  },
  {
   "cell_type": "code",
   "execution_count": 1,
   "metadata": {},
   "outputs": [
    {
     "data": {
      "text/html": [
       "<div>\n",
       "<style scoped>\n",
       "    .dataframe tbody tr th:only-of-type {\n",
       "        vertical-align: middle;\n",
       "    }\n",
       "\n",
       "    .dataframe tbody tr th {\n",
       "        vertical-align: top;\n",
       "    }\n",
       "\n",
       "    .dataframe thead th {\n",
       "        text-align: right;\n",
       "    }\n",
       "</style>\n",
       "<table border=\"1\" class=\"dataframe\">\n",
       "  <thead>\n",
       "    <tr style=\"text-align: right;\">\n",
       "      <th></th>\n",
       "      <th>Calendar Year</th>\n",
       "      <th>AGE ID</th>\n",
       "      <th>School Name</th>\n",
       "      <th>Suburb</th>\n",
       "      <th>State</th>\n",
       "      <th>Postcode</th>\n",
       "      <th>School Sector</th>\n",
       "      <th>School Type</th>\n",
       "      <th>Campus Type</th>\n",
       "      <th>Rolled Reporting Description</th>\n",
       "      <th>...</th>\n",
       "      <th>Full Time Equivalent Non-Teaching Staff</th>\n",
       "      <th>Total Enrolments</th>\n",
       "      <th>Girls Enrolments</th>\n",
       "      <th>Boys Enrolments</th>\n",
       "      <th>Full Time Equivalent Enrolments</th>\n",
       "      <th>Indigenous Enrolments (%)</th>\n",
       "      <th>Language Background Other Than English (%)</th>\n",
       "      <th>Address</th>\n",
       "      <th>Longitudes</th>\n",
       "      <th>Lattitudes</th>\n",
       "    </tr>\n",
       "  </thead>\n",
       "  <tbody>\n",
       "    <tr>\n",
       "      <th>0</th>\n",
       "      <td>2008</td>\n",
       "      <td>3.0</td>\n",
       "      <td>Corpus Christi Catholic School</td>\n",
       "      <td>Bellerive</td>\n",
       "      <td>TAS</td>\n",
       "      <td>7018</td>\n",
       "      <td>Catholic</td>\n",
       "      <td>Primary</td>\n",
       "      <td>School Single Entity</td>\n",
       "      <td>Individual Reporting</td>\n",
       "      <td>...</td>\n",
       "      <td>6.9</td>\n",
       "      <td>410.0</td>\n",
       "      <td>185.0</td>\n",
       "      <td>225.0</td>\n",
       "      <td>410.0</td>\n",
       "      <td>1.0</td>\n",
       "      <td>4.0</td>\n",
       "      <td>Corpus Christi Catholic School, Bellerive, TAS...</td>\n",
       "      <td>147.372269</td>\n",
       "      <td>-42.8709658</td>\n",
       "    </tr>\n",
       "    <tr>\n",
       "      <th>1</th>\n",
       "      <td>2008</td>\n",
       "      <td>4.0</td>\n",
       "      <td>Fahan School</td>\n",
       "      <td>Sandy Bay</td>\n",
       "      <td>TAS</td>\n",
       "      <td>7005</td>\n",
       "      <td>Independent</td>\n",
       "      <td>Combined</td>\n",
       "      <td>School Single Entity</td>\n",
       "      <td>Individual Reporting</td>\n",
       "      <td>...</td>\n",
       "      <td>14.6</td>\n",
       "      <td>347.0</td>\n",
       "      <td>339.0</td>\n",
       "      <td>8.0</td>\n",
       "      <td>347.0</td>\n",
       "      <td>1.0</td>\n",
       "      <td>1.0</td>\n",
       "      <td>Fahan School, Sandy Bay, TAS, 7005</td>\n",
       "      <td>147.352238</td>\n",
       "      <td>-42.915853</td>\n",
       "    </tr>\n",
       "    <tr>\n",
       "      <th>2</th>\n",
       "      <td>2008</td>\n",
       "      <td>5.0</td>\n",
       "      <td>Geneva Christian College</td>\n",
       "      <td>Latrobe</td>\n",
       "      <td>TAS</td>\n",
       "      <td>7307</td>\n",
       "      <td>Independent</td>\n",
       "      <td>Combined</td>\n",
       "      <td>School Single Entity</td>\n",
       "      <td>Individual Reporting</td>\n",
       "      <td>...</td>\n",
       "      <td>5.0</td>\n",
       "      <td>76.0</td>\n",
       "      <td>43.0</td>\n",
       "      <td>33.0</td>\n",
       "      <td>75.4</td>\n",
       "      <td>7.0</td>\n",
       "      <td>0.0</td>\n",
       "      <td>Geneva Christian College, Latrobe, TAS, 7307</td>\n",
       "      <td>146.438394</td>\n",
       "      <td>-41.226756</td>\n",
       "    </tr>\n",
       "  </tbody>\n",
       "</table>\n",
       "<p>3 rows × 31 columns</p>\n",
       "</div>"
      ],
      "text/plain": [
       "   Calendar Year  AGE ID                     School Name     Suburb State  \\\n",
       "0           2008     3.0  Corpus Christi Catholic School  Bellerive   TAS   \n",
       "1           2008     4.0                    Fahan School  Sandy Bay   TAS   \n",
       "2           2008     5.0        Geneva Christian College    Latrobe   TAS   \n",
       "\n",
       "   Postcode School Sector School Type           Campus Type  \\\n",
       "0      7018      Catholic     Primary  School Single Entity   \n",
       "1      7005   Independent    Combined  School Single Entity   \n",
       "2      7307   Independent    Combined  School Single Entity   \n",
       "\n",
       "  Rolled Reporting Description  ... Full Time Equivalent Non-Teaching Staff  \\\n",
       "0         Individual Reporting  ...                                     6.9   \n",
       "1         Individual Reporting  ...                                    14.6   \n",
       "2         Individual Reporting  ...                                     5.0   \n",
       "\n",
       "  Total Enrolments Girls Enrolments  Boys Enrolments  \\\n",
       "0            410.0            185.0            225.0   \n",
       "1            347.0            339.0              8.0   \n",
       "2             76.0             43.0             33.0   \n",
       "\n",
       "   Full Time Equivalent Enrolments  Indigenous Enrolments (%)  \\\n",
       "0                            410.0                        1.0   \n",
       "1                            347.0                        1.0   \n",
       "2                             75.4                        7.0   \n",
       "\n",
       "   Language Background Other Than English (%)  \\\n",
       "0                                         4.0   \n",
       "1                                         1.0   \n",
       "2                                         0.0   \n",
       "\n",
       "                                             Address  Longitudes   Lattitudes  \n",
       "0  Corpus Christi Catholic School, Bellerive, TAS...  147.372269  -42.8709658  \n",
       "1                 Fahan School, Sandy Bay, TAS, 7005  147.352238   -42.915853  \n",
       "2       Geneva Christian College, Latrobe, TAS, 7307  146.438394   -41.226756  \n",
       "\n",
       "[3 rows x 31 columns]"
      ]
     },
     "execution_count": 1,
     "metadata": {},
     "output_type": "execute_result"
    }
   ],
   "source": [
    "######importing libraries#######\n",
    "from ast import literal_eval\n",
    "import pandas as pd\n",
    "import matplotlib.pyplot as plt\n",
    "%matplotlib inline \n",
    " \n",
    "dfSchool = pd.read_csv('school_profiles_with_lat_lng_hub.csv', engine='python')\n",
    "#df=pd.read_csv('C:/WorkingFolder/DatathonCommunityHub/school_profiles_with_lat_lng_hub.csv')\n",
    "dfSchool.head(3)"
   ]
  },
  {
   "cell_type": "code",
   "execution_count": 2,
   "metadata": {},
   "outputs": [],
   "source": [
    "#for index, row in df.iterrows():      \n",
    " #   latitudeJsonString = row['Latitude']\n",
    "  #  if not latitudeJsonString is None:\n",
    "   #     latitudeJson = literal_eval(latitudeJsonString)\n",
    "    #    print latitudeJson['results'][0]['geometry']['location']['lat']\n",
    "    #df.at[index, 'LatitudeNew'] = str(latitudeJson['results'][0]['geometry']['location']['lat'])\n",
    "#df.head()"
   ]
  },
  {
   "cell_type": "code",
   "execution_count": 3,
   "metadata": {},
   "outputs": [],
   "source": [
    "#create a set for model purpose\n",
    "dfmodel = dfSchool[['Lattitudes','Longitudes']]\n"
   ]
  },
  {
   "cell_type": "code",
   "execution_count": 4,
   "metadata": {},
   "outputs": [
    {
     "name": "stderr",
     "output_type": "stream",
     "text": [
      "C:\\Users\\Rishabh\\Anaconda3\\lib\\site-packages\\ipykernel_launcher.py:2: SettingWithCopyWarning: \n",
      "A value is trying to be set on a copy of a slice from a DataFrame.\n",
      "Try using .loc[row_indexer,col_indexer] = value instead\n",
      "\n",
      "See the caveats in the documentation: http://pandas.pydata.org/pandas-docs/stable/indexing.html#indexing-view-versus-copy\n",
      "  \n"
     ]
    }
   ],
   "source": [
    "for Lattitudes in dfmodel.columns:\n",
    "    dfmodel[Lattitudes] = pd.to_numeric(dfmodel[Lattitudes], errors='coerce')\n",
    "#df.[Lattitudes]=to_numeric"
   ]
  },
  {
   "cell_type": "code",
   "execution_count": 5,
   "metadata": {},
   "outputs": [
    {
     "data": {
      "text/plain": [
       "Lattitudes    float64\n",
       "Longitudes    float64\n",
       "dtype: object"
      ]
     },
     "execution_count": 5,
     "metadata": {},
     "output_type": "execute_result"
    }
   ],
   "source": [
    "dfmodel.dtypes"
   ]
  },
  {
   "cell_type": "code",
   "execution_count": 6,
   "metadata": {},
   "outputs": [
    {
     "data": {
      "text/plain": [
       "Lattitudes    259\n",
       "Longitudes     10\n",
       "dtype: int64"
      ]
     },
     "execution_count": 6,
     "metadata": {},
     "output_type": "execute_result"
    }
   ],
   "source": [
    "dfmodel.isnull().sum()\n",
    "#dfkmean.isna().sum()\n"
   ]
  },
  {
   "cell_type": "code",
   "execution_count": 7,
   "metadata": {},
   "outputs": [
    {
     "data": {
      "text/plain": [
       "Lattitudes    0\n",
       "Longitudes    0\n",
       "dtype: int64"
      ]
     },
     "execution_count": 7,
     "metadata": {},
     "output_type": "execute_result"
    }
   ],
   "source": [
    "dfmodel = dfmodel[dfmodel['Longitudes'].notna()]\n",
    "dfmodel = dfmodel[dfmodel['Lattitudes'].notna()]\n",
    "dfmodel.isna().sum()"
   ]
  },
  {
   "cell_type": "code",
   "execution_count": 8,
   "metadata": {},
   "outputs": [
    {
     "data": {
      "text/plain": [
       "(9276, 2)"
      ]
     },
     "execution_count": 8,
     "metadata": {},
     "output_type": "execute_result"
    }
   ],
   "source": [
    "dfmodel.shape"
   ]
  },
  {
   "cell_type": "code",
   "execution_count": 9,
   "metadata": {},
   "outputs": [],
   "source": [
    "##Removing negative value in longitute\n",
    "dfmodel = dfmodel[dfmodel['Longitudes']>0]"
   ]
  },
  {
   "cell_type": "code",
   "execution_count": 10,
   "metadata": {},
   "outputs": [],
   "source": [
    "####Assigning data to model frame and Applying ML on dataset\n",
    "dfkmean=dfmodel"
   ]
  },
  {
   "cell_type": "code",
   "execution_count": 11,
   "metadata": {},
   "outputs": [],
   "source": [
    "from sklearn import cluster \n",
    "import numpy as np\n",
    "from sklearn import metrics\n",
    "from scipy.spatial.distance import cdist"
   ]
  },
  {
   "cell_type": "code",
   "execution_count": 12,
   "metadata": {},
   "outputs": [
    {
     "data": {
      "image/png": "[encoded data removed]",
      "text/plain": [
       "<Figure size 432x288 with 1 Axes>"
      ]
     },
     "metadata": {
      "needs_background": "light"
     },
     "output_type": "display_data"
    }
   ],
   "source": [
    "# k means determine k\n",
    "distortions = []\n",
    "K = range(1,15)\n",
    "X=dfkmean\n",
    "for k in K:\n",
    "    kmeanModel = cluster.KMeans(n_clusters=k).fit(X)\n",
    "    kmeanModel.fit(X)\n",
    "    distortions.append(sum(np.min(cdist(X, kmeanModel.cluster_centers_, 'euclidean'), axis=1)) / X.shape[0])\n",
    "\n",
    "# Plot the elbow\n",
    "plt.plot(K, distortions, 'bx-')\n",
    "plt.xlabel('k')\n",
    "plt.ylabel('Distortion')\n",
    "plt.title('The Elbow Method showing the optimal k')\n",
    "plt.show()"
   ]
  },
  {
   "cell_type": "code",
   "execution_count": 13,
   "metadata": {},
   "outputs": [
    {
     "name": "stdout",
     "output_type": "stream",
     "text": [
      "[[-31.62374584 116.30213809]\n",
      " [-37.91472253 145.26603732]\n",
      " [-25.85804662 151.42262564]\n",
      " [-34.70731492 138.98805463]\n",
      " [-33.53714313 150.75782512]\n",
      " [-16.65691211 132.36993709]]\n"
     ]
    }
   ],
   "source": [
    "###Kmeans with 6\n",
    "dfkmean = dfmodel\n",
    "model = cluster.KMeans(n_clusters = 6, random_state=14)\n",
    "fit = model.fit(dfkmean)\n",
    "centroids=fit.cluster_centers_\n",
    "clust_labels=fit.predict(dfkmean)\n",
    "print (centroids)\n"
   ]
  },
  {
   "cell_type": "code",
   "execution_count": 14,
   "metadata": {},
   "outputs": [],
   "source": [
    "kmeansdata = pd.DataFrame(clust_labels)"
   ]
  },
  {
   "cell_type": "code",
   "execution_count": 15,
   "metadata": {},
   "outputs": [
    {
     "data": {
      "text/plain": [
       "0    int32\n",
       "dtype: object"
      ]
     },
     "execution_count": 15,
     "metadata": {},
     "output_type": "execute_result"
    }
   ],
   "source": [
    "kmeansdata.dtypes"
   ]
  },
  {
   "cell_type": "code",
   "execution_count": 16,
   "metadata": {},
   "outputs": [
    {
     "data": {
      "text/plain": [
       "<matplotlib.colorbar.Colorbar at 0x1c2d33ce0b8>"
      ]
     },
     "execution_count": 16,
     "metadata": {},
     "output_type": "execute_result"
    },
    {
     "data": {
      "image/png": "[encoded data removed]",
      "text/plain": [
       "<Figure size 432x288 with 2 Axes>"
      ]
     },
     "metadata": {
      "needs_background": "light"
     },
     "output_type": "display_data"
    }
   ],
   "source": [
    "#Plot the clusters obtained using k means\n",
    "fig = plt.figure()\n",
    "ax = fig.add_subplot(111)\n",
    "scatter = ax.scatter(dfkmean['Lattitudes'],dfkmean['Longitudes'],\n",
    "                     c=kmeansdata[0],s=50)\n",
    "ax.set_title('K-Means Clustering')\n",
    "ax.set_xlabel('Lattitudes')\n",
    "ax.set_ylabel('Longitudes')\n",
    "plt.colorbar(scatter)"
   ]
  },
  {
   "cell_type": "code",
   "execution_count": 17,
   "metadata": {},
   "outputs": [],
   "source": [
    "from sklearn.cluster import DBSCAN\n",
    "from sklearn import metrics\n",
    "from sklearn.datasets.samples_generator import make_blobs\n",
    "from sklearn.preprocessing import StandardScaler"
   ]
  },
  {
   "cell_type": "code",
   "execution_count": 18,
   "metadata": {},
   "outputs": [],
   "source": [
    "dfdbscan = dfmodel"
   ]
  },
  {
   "cell_type": "code",
   "execution_count": 19,
   "metadata": {},
   "outputs": [],
   "source": [
    "dbScanmodel = DBSCAN(eps=2, min_samples=5).fit(dfdbscan)"
   ]
  },
  {
   "cell_type": "code",
   "execution_count": 20,
   "metadata": {},
   "outputs": [],
   "source": [
    "labels = dbScanmodel.labels_\n",
    "core_samples = np.zeros_like(labels, dtype = bool)\n",
    "core_samples[dbScanmodel.core_sample_indices_] = True"
   ]
  },
  {
   "cell_type": "code",
   "execution_count": 21,
   "metadata": {},
   "outputs": [
    {
     "data": {
      "text/plain": [
       "Text(0.5, 1.0, 'DBSCAN')"
      ]
     },
     "execution_count": 21,
     "metadata": {},
     "output_type": "execute_result"
    },
    {
     "data": {
      "image/png": "[encoded data removed]",
      "text/plain": [
       "<Figure size 432x288 with 1 Axes>"
      ]
     },
     "metadata": {
      "needs_background": "light"
     },
     "output_type": "display_data"
    }
   ],
   "source": [
    "#Plotting DBscan results\n",
    "y_pred = dbScanmodel.fit_predict(dfdbscan)\n",
    "plt.scatter(dfdbscan['Lattitudes'], dfdbscan['Longitudes'],c=y_pred, cmap='Paired')\n",
    "plt.title(\"DBSCAN\")"
   ]
  }
 ],
 "metadata": {
  "kernelspec": {
   "display_name": "Python 3",
   "language": "python",
   "name": "python3"
  },
  "language_info": {
   "codemirror_mode": {
    "name": "ipython",
    "version": 3
   },
   "file_extension": ".py",
   "mimetype": "text/x-python",
   "name": "python",
   "nbconvert_exporter": "python",
   "pygments_lexer": "ipython3",
   "version": "3.7.3"
  }
 },
 "nbformat": 4,
 "nbformat_minor": 2
}
